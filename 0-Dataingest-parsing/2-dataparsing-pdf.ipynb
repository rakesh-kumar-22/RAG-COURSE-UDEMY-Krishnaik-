{
 "cells": [
  {
   "cell_type": "code",
   "execution_count": 1,
   "id": "8f64b200",
   "metadata": {},
   "outputs": [
    {
     "name": "stderr",
     "output_type": "stream",
     "text": [
      "c:\\Users\\ASUS\\Desktop\\RAGUdemy\\.venv\\Lib\\site-packages\\tqdm\\auto.py:21: TqdmWarning: IProgress not found. Please update jupyter and ipywidgets. See https://ipywidgets.readthedocs.io/en/stable/user_install.html\n",
      "  from .autonotebook import tqdm as notebook_tqdm\n"
     ]
    }
   ],
   "source": [
    "#Load pdf Files\n",
    "from langchain_community.document_loaders import (\n",
    "    PyPDFLoader,\n",
    "    PyMuPDFLoader\n",
    ")"
   ]
  },
  {
   "cell_type": "code",
   "execution_count": 5,
   "id": "11ca57e2",
   "metadata": {},
   "outputs": [
    {
     "name": "stdout",
     "output_type": "stream",
     "text": [
      "Pypdf Loader\n",
      "Number of pages: 15\n",
      "First page: Provided proper attribution is provided, Google hereby grants permission to\n",
      "reproduce the tables and\n",
      "First page metadata: {'producer': 'pdfTeX-1.40.25', 'creator': 'LaTeX with hyperref', 'creationdate': '2024-04-10T21:11:43+00:00', 'author': '', 'keywords': '', 'moddate': '2024-04-10T21:11:43+00:00', 'ptex.fullbanner': 'This is pdfTeX, Version 3.141592653-2.6-1.40.25 (TeX Live 2023) kpathsea version 6.3.5', 'subject': '', 'title': '', 'trapped': '/False', 'source': 'data\\\\pdf\\\\attention.pdf', 'total_pages': 15, 'page': 0, 'page_label': '1'}\n"
     ]
    }
   ],
   "source": [
    "print(\"Pypdf Loader\")\n",
    "try:\n",
    "    pypdfloader=PyPDFLoader(r\"data\\pdf\\attention.pdf\")\n",
    "    docs=pypdfloader.load()\n",
    "    print(f\"Number of pages: {len(docs)}\")\n",
    "    print(f\"First page: {docs[0].page_content[:100]}\")\n",
    "    print(f\"First page metadata: {docs[0].metadata}\")\n",
    "except Exception as e:\n",
    "    print(f\"Error: {e}\")"
   ]
  },
  {
   "cell_type": "code",
   "execution_count": 9,
   "id": "866f350c",
   "metadata": {},
   "outputs": [
    {
     "name": "stdout",
     "output_type": "stream",
     "text": [
      "PyMupdfloader\n",
      "Number of pages: 15\n",
      "First page: Provided proper attribution is provided, Google hereby grants permission to\n",
      "reproduce the tables and\n",
      "First page metadata: {'producer': 'pdfTeX-1.40.25', 'creator': 'LaTeX with hyperref', 'creationdate': '2024-04-10T21:11:43+00:00', 'source': 'data/pdf/attention.pdf', 'file_path': 'data/pdf/attention.pdf', 'total_pages': 15, 'format': 'PDF 1.5', 'title': '', 'author': '', 'subject': '', 'keywords': '', 'moddate': '2024-04-10T21:11:43+00:00', 'trapped': '', 'modDate': 'D:20240410211143Z', 'creationDate': 'D:20240410211143Z', 'page': 0}\n"
     ]
    }
   ],
   "source": [
    "print(\"PyMupdfloader\")\n",
    "try:\n",
    "    pymudpdf_loader=PyMuPDFLoader(\"data/pdf/attention.pdf\",\n",
    "                                  extract_images=True)\n",
    "    docs=pymudpdf_loader.load()\n",
    "    print(f\"Number of pages: {len(docs)}\")\n",
    "    print(f\"First page: {docs[0].page_content[:100]}\")\n",
    "    print(f\"First page metadata: {docs[0].metadata}\")\n",
    "except Exception as e:\n",
    "    print(f\"error:{e}\")\n"
   ]
  },
  {
   "cell_type": "code",
   "execution_count": null,
   "id": "a972aa18",
   "metadata": {},
   "outputs": [],
   "source": []
  }
 ],
 "metadata": {
  "kernelspec": {
   "display_name": "RAGUdemy",
   "language": "python",
   "name": "python3"
  },
  "language_info": {
   "codemirror_mode": {
    "name": "ipython",
    "version": 3
   },
   "file_extension": ".py",
   "mimetype": "text/x-python",
   "name": "python",
   "nbconvert_exporter": "python",
   "pygments_lexer": "ipython3",
   "version": "3.13.5"
  }
 },
 "nbformat": 4,
 "nbformat_minor": 5
}

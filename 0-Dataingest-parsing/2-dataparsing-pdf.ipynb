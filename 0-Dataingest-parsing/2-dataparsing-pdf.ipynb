{
 "cells": [
  {
   "cell_type": "code",
   "execution_count": 1,
   "id": "8f64b200",
   "metadata": {},
   "outputs": [
    {
     "name": "stderr",
     "output_type": "stream",
     "text": [
      "c:\\Users\\ASUS\\Desktop\\RAGUdemy\\.venv\\Lib\\site-packages\\tqdm\\auto.py:21: TqdmWarning: IProgress not found. Please update jupyter and ipywidgets. See https://ipywidgets.readthedocs.io/en/stable/user_install.html\n",
      "  from .autonotebook import tqdm as notebook_tqdm\n"
     ]
    }
   ],
   "source": [
    "#Load pdf Files\n",
    "from langchain_community.document_loaders import (\n",
    "    PyPDFLoader,\n",
    "    PyMuPDFLoader\n",
    ")"
   ]
  },
  {
   "cell_type": "code",
   "execution_count": 5,
   "id": "11ca57e2",
   "metadata": {},
   "outputs": [
    {
     "name": "stdout",
     "output_type": "stream",
     "text": [
      "Pypdf Loader\n",
      "Number of pages: 15\n",
      "First page: Provided proper attribution is provided, Google hereby grants permission to\n",
      "reproduce the tables and\n",
      "First page metadata: {'producer': 'pdfTeX-1.40.25', 'creator': 'LaTeX with hyperref', 'creationdate': '2024-04-10T21:11:43+00:00', 'author': '', 'keywords': '', 'moddate': '2024-04-10T21:11:43+00:00', 'ptex.fullbanner': 'This is pdfTeX, Version 3.141592653-2.6-1.40.25 (TeX Live 2023) kpathsea version 6.3.5', 'subject': '', 'title': '', 'trapped': '/False', 'source': 'data\\\\pdf\\\\attention.pdf', 'total_pages': 15, 'page': 0, 'page_label': '1'}\n"
     ]
    }
   ],
   "source": [
    "print(\"Pypdf Loader\")\n",
    "try:\n",
    "    pypdfloader=PyPDFLoader(r\"data\\pdf\\attention.pdf\")\n",
    "    docs=pypdfloader.load()\n",
    "    print(f\"Number of pages: {len(docs)}\")\n",
    "    print(f\"First page: {docs[0].page_content[:100]}\")\n",
    "    print(f\"First page metadata: {docs[0].metadata}\")\n",
    "except Exception as e:\n",
    "    print(f\"Error: {e}\")"
   ]
  },
  {
   "cell_type": "code",
   "execution_count": 9,
   "id": "866f350c",
   "metadata": {},
   "outputs": [
    {
     "name": "stdout",
     "output_type": "stream",
     "text": [
      "PyMupdfloader\n",
      "Number of pages: 15\n",
      "First page: Provided proper attribution is provided, Google hereby grants permission to\n",
      "reproduce the tables and\n",
      "First page metadata: {'producer': 'pdfTeX-1.40.25', 'creator': 'LaTeX with hyperref', 'creationdate': '2024-04-10T21:11:43+00:00', 'source': 'data/pdf/attention.pdf', 'file_path': 'data/pdf/attention.pdf', 'total_pages': 15, 'format': 'PDF 1.5', 'title': '', 'author': '', 'subject': '', 'keywords': '', 'moddate': '2024-04-10T21:11:43+00:00', 'trapped': '', 'modDate': 'D:20240410211143Z', 'creationDate': 'D:20240410211143Z', 'page': 0}\n"
     ]
    }
   ],
   "source": [
    "print(\"PyMupdfloader\")\n",
    "try:\n",
    "    pymudpdf_loader=PyMuPDFLoader(\"data/pdf/attention.pdf\",\n",
    "                                  extract_images=True)\n",
    "    docs=pymudpdf_loader.load()\n",
    "    print(f\"Number of pages: {len(docs)}\")\n",
    "    print(f\"First page: {docs[0].page_content[:100]}\")\n",
    "    print(f\"First page metadata: {docs[0].metadata}\")\n",
    "except Exception as e:\n",
    "    print(f\"error:{e}\")\n"
   ]
  },
  {
   "cell_type": "code",
   "execution_count": 1,
   "id": "a972aa18",
   "metadata": {},
   "outputs": [
    {
     "name": "stdout",
     "output_type": "stream",
     "text": [
      "BEFORE->\n",
      "Company Financial Report\n",
      "\n",
      "\n",
      "    The ﬁnancial performance for ﬁscal year 2024\n",
      "    shows signiﬁcant growth in proﬁtability.\n",
      "\n",
      "\n",
      "\n",
      "    Revenue increased by 25%.\n",
      "\n",
      "The company's efﬁciency improved due to workﬂow\n",
      "optimization.\n",
      "\n",
      "\n",
      "Page 1 of 10\n",
      "\n",
      "AFTER Preprocessing->\n",
      "Company Financial Report The financial performance for fiscal year 2024 shows significant growth in profitability. Revenue increased by 25%. The company's efficiency improved due to workflow optimization. Page 1 of 10\n"
     ]
    }
   ],
   "source": [
    "# Example of raw PDF extraction\n",
    "raw_pdf_text = \"\"\"Company Financial Report\n",
    "\n",
    "\n",
    "    The ﬁnancial performance for ﬁscal year 2024\n",
    "    shows signiﬁcant growth in proﬁtability.\n",
    "    \n",
    "    \n",
    "    \n",
    "    Revenue increased by 25%.\n",
    "    \n",
    "The company's efﬁciency improved due to workﬂow\n",
    "optimization.\n",
    "\n",
    "\n",
    "Page 1 of 10\n",
    "\"\"\"\n",
    "\n",
    "# Apply the cleaning function\n",
    "\n",
    "def clean_text(text):\n",
    "    #Remove excessive white space\n",
    "    text=\" \".join(text.split())\n",
    "    #fix ligatures\n",
    "    text=text.replace(\"ﬁ\",\"fi\")\n",
    "    text=text.replace(\"ﬂ\", \"fl\")\n",
    "\n",
    "    return text\n",
    "\n",
    "cleaned_text=clean_text(raw_pdf_text)\n",
    "print(\"BEFORE->\")\n",
    "print(raw_pdf_text)\n",
    "print(\"AFTER Preprocessing->\")\n",
    "print(cleaned_text)\n"
   ]
  },
  {
   "cell_type": "code",
   "execution_count": 1,
   "id": "c52e203c",
   "metadata": {},
   "outputs": [
    {
     "name": "stderr",
     "output_type": "stream",
     "text": [
      "c:\\Users\\ASUS\\Desktop\\RAGUdemy\\.venv\\Lib\\site-packages\\tqdm\\auto.py:21: TqdmWarning: IProgress not found. Please update jupyter and ipywidgets. See https://ipywidgets.readthedocs.io/en/stable/user_install.html\n",
      "  from .autonotebook import tqdm as notebook_tqdm\n"
     ]
    }
   ],
   "source": [
    "from langchain.text_splitter import RecursiveCharacterTextSplitter\n",
    "from langchain_community.document_loaders import PyPDFLoader\n",
    "from langchain_core.documents import Document\n",
    "from typing import List\n",
    "class SmartPDFProcessor():\n",
    "    \"\"\"Advanced pdf processing with error handling\"\"\"\n",
    "    def __init__(self,chunk_size=1000,chunk_overlap=100):\n",
    "        self.chunk_size=chunk_size,\n",
    "        self.chunk_overlap=chunk_overlap,\n",
    "        self.text_splitter=RecursiveCharacterTextSplitter(\n",
    "            chunk_size=chunk_size,\n",
    "            chunk_overlap=chunk_overlap,\n",
    "            separators=[' ']\n",
    "        )\n",
    "\n",
    "    def process_pdf(self,pdf_path:str)->List[Document]:\n",
    "        \"\"\"Process PDF with smart chunking and metadata enhancement\"\"\"\n",
    "        try:\n",
    "            #load pdf\n",
    "            loader=PyPDFLoader(pdf_path)\n",
    "            pages=loader.load()\n",
    "\n",
    "\n",
    "            ##Process each page\n",
    "            processed_chunks=[]\n",
    "            for page_num,page in enumerate(pages):\n",
    "                cleaned_text=self._clean_text(page.page_content)\n",
    "                #skip nearly empty pages\n",
    "                if len(cleaned_text.strip())<50:\n",
    "                    continue\n",
    "\n",
    "                # create chunks with enhanced metadata\n",
    "                chunks=self.text_splitter.create_documents(\n",
    "                    texts=[cleaned_text],\n",
    "                    metadatas=[{\n",
    "                        **page.metadata,\n",
    "                        \"page\":page_num+1,\n",
    "                        \"total_pages\":len(pages),\n",
    "                        \"chunk_method\":\"SmartPDFProcessor\",\n",
    "                        \"char_count\":len(cleaned_text)\n",
    "                    }\n",
    "                    ]\n",
    "                )\n",
    "                processed_chunks.extend(chunks)\n",
    "            return processed_chunks\n",
    "\n",
    "        except Exception as e:\n",
    "            print(f\"Pdf error:{e}\")\n",
    "    def _clean_text(self,text:str)->str:\n",
    "        #Remove unnecessary white space\n",
    "        text=\" \".join(text.split())\n",
    "\n",
    "        text=text.replace(\"ﬁ\",\"fi\")\n",
    "        text=text.replace(\"ﬂ\", \"fl\")\n",
    "\n",
    "        return text\n",
    "    \n"
   ]
  },
  {
   "cell_type": "code",
   "execution_count": 2,
   "id": "14eb7967",
   "metadata": {},
   "outputs": [
    {
     "data": {
      "text/plain": [
       "<__main__.SmartPDFProcessor at 0x1917bc15160>"
      ]
     },
     "execution_count": 2,
     "metadata": {},
     "output_type": "execute_result"
    }
   ],
   "source": [
    "processor=SmartPDFProcessor()\n",
    "processor"
   ]
  },
  {
   "cell_type": "code",
   "execution_count": 9,
   "id": "a354843e",
   "metadata": {},
   "outputs": [
    {
     "name": "stdout",
     "output_type": "stream",
     "text": [
      "Processed into 49 smart chunks\n",
      "\n",
      "Sample chunk metadata\n",
      "producer: pdfTeX-1.40.25\n",
      "creator: LaTeX with hyperref\n",
      "creationdate: 2024-04-10T21:11:43+00:00\n",
      "author: \n",
      "keywords: \n",
      "moddate: 2024-04-10T21:11:43+00:00\n",
      "ptex.fullbanner: This is pdfTeX, Version 3.141592653-2.6-1.40.25 (TeX Live 2023) kpathsea version 6.3.5\n",
      "subject: \n",
      "title: \n",
      "trapped: /False\n",
      "source: data/pdf/attention.pdf\n",
      "total_pages: 15\n",
      "page: 1\n",
      "page_label: 1\n",
      "chunk_method: SmartPDFProcessor\n",
      "char_count: 2857\n"
     ]
    }
   ],
   "source": [
    "# Preprocess the pdf\n",
    "try:\n",
    "    smart_chunks=processor.process_pdf(\"data/pdf/attention.pdf\")\n",
    "    print(f\"Processed into {len(smart_chunks)} smart chunks\")\n",
    "    #show enhanced mettadata\n",
    "    if smart_chunks:\n",
    "        print(\"\\nSample chunk metadata\")\n",
    "        for key,value in smart_chunks[0].metadata.items():\n",
    "            print(f\"{key}: {value}\")\n",
    "except Exception as e:\n",
    "    print(f\"processed pdf Error:{e}\")"
   ]
  },
  {
   "cell_type": "code",
   "execution_count": null,
   "id": "72666576",
   "metadata": {},
   "outputs": [],
   "source": []
  }
 ],
 "metadata": {
  "kernelspec": {
   "display_name": "RAGUdemy",
   "language": "python",
   "name": "python3"
  },
  "language_info": {
   "codemirror_mode": {
    "name": "ipython",
    "version": 3
   },
   "file_extension": ".py",
   "mimetype": "text/x-python",
   "name": "python",
   "nbconvert_exporter": "python",
   "pygments_lexer": "ipython3",
   "version": "3.13.5"
  }
 },
 "nbformat": 4,
 "nbformat_minor": 5
}

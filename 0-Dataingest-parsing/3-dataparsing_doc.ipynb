{
 "cells": [
  {
   "cell_type": "markdown",
   "id": "ff641ef8",
   "metadata": {},
   "source": [
    "### Word Document Preprocessing"
   ]
  },
  {
   "cell_type": "code",
   "execution_count": 1,
   "id": "84f476ec",
   "metadata": {},
   "outputs": [],
   "source": [
    "from langchain_community.document_loaders import UnstructuredWordDocumentLoader,Docx2txtLoader"
   ]
  },
  {
   "cell_type": "code",
   "execution_count": 2,
   "id": "f82ed2ed",
   "metadata": {},
   "outputs": [
    {
     "name": "stdout",
     "output_type": "stream",
     "text": [
      "Method 1: Using the docx2txtloader\n",
      "Created 1 chunks\n",
      "chunk content: Project Proposal: RAG Implementation\n",
      "\n",
      "Executive Summary\n",
      "\n",
      "This proposal outlines the implementation o\n",
      "chunk_metadata: {'source': 'data/word_files/proposal.docx'}\n"
     ]
    }
   ],
   "source": [
    "# Using the docx2txtloader\n",
    "print(\"Method 1: Using the docx2txtloader\")\n",
    "try:\n",
    "    docx_loader=Docx2txtLoader(\"data/word_files/proposal.docx\")\n",
    "    docx_data=docx_loader.load()\n",
    "    print(f\"Created {len(docx_data)} chunks\")\n",
    "    print(f\"chunk content: {docx_data[0].page_content[:100]}\")\n",
    "    print(f\"chunk_metadata: {docx_data[0].metadata}\")\n",
    "except Exception as e:\n",
    "    print(f\"Error: {e}\")"
   ]
  },
  {
   "cell_type": "code",
   "execution_count": 5,
   "id": "95214ae2",
   "metadata": {},
   "outputs": [
    {
     "name": "stdout",
     "output_type": "stream",
     "text": [
      "Method 2: Using the unstructured word document loader\n",
      "Created 20 chunks\n",
      "Item 1\n",
      "type: Title\n",
      "chunk content: Project Proposal: RAG Implementation\n",
      "Item 2\n",
      "type: Title\n",
      "chunk content: Executive Summary\n",
      "Item 3\n",
      "type: NarrativeText\n",
      "chunk content: This proposal outlines the implementation of a Retrieval-Augmented Generation system for our organiz\n"
     ]
    }
   ],
   "source": [
    "#Using the unstructured word document loader\n",
    "print(\"Method 2: Using the unstructured word document loader\")\n",
    "try:\n",
    "    word_loader=UnstructuredWordDocumentLoader(\"data/word_files/proposal.docx\",mode=\"elements\")\n",
    "    word_docs=word_loader.load()\n",
    "    print(f\"Created {len(word_docs)} chunks\")\n",
    "    for i,doc in enumerate(word_docs[:3]):\n",
    "        print(f\"Item {i+1}\")\n",
    "        print(f\"type: {doc.metadata.get('category','unknown')}\")\n",
    "        print(f\"chunk content: {doc.page_content[:100]}\")\n",
    "\n",
    "except Exception as e:\n",
    "    print(f\"Error: {e}\")"
   ]
  },
  {
   "cell_type": "code",
   "execution_count": null,
   "id": "4e18ced6",
   "metadata": {},
   "outputs": [],
   "source": []
  }
 ],
 "metadata": {
  "kernelspec": {
   "display_name": "RAGUdemy",
   "language": "python",
   "name": "python3"
  },
  "language_info": {
   "codemirror_mode": {
    "name": "ipython",
    "version": 3
   },
   "file_extension": ".py",
   "mimetype": "text/x-python",
   "name": "python",
   "nbconvert_exporter": "python",
   "pygments_lexer": "ipython3",
   "version": "3.13.5"
  }
 },
 "nbformat": 4,
 "nbformat_minor": 5
}

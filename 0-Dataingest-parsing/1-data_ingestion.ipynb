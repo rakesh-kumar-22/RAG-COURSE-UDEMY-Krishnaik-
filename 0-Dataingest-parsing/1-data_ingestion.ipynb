{
 "cells": [
  {
   "cell_type": "code",
   "execution_count": 3,
   "id": "4d09cae0",
   "metadata": {},
   "outputs": [],
   "source": [
    "import os\n",
    "from typing import List,Dict,Any\n",
    "import pandas as pd"
   ]
  },
  {
   "cell_type": "code",
   "execution_count": 5,
   "id": "c8384ef6",
   "metadata": {},
   "outputs": [
    {
     "name": "stdout",
     "output_type": "stream",
     "text": [
      "Setup completed!\n"
     ]
    }
   ],
   "source": [
    "from langchain_core.documents import Document\n",
    "from langchain.text_splitter import (\n",
    "    RecursiveCharacterTextSplitter,\n",
    "    CharacterTextSplitter,\n",
    "    TokenTextSplitter\n",
    ")\n",
    "print(\"Setup completed!\")"
   ]
  },
  {
   "cell_type": "markdown",
   "id": "528fd89b",
   "metadata": {},
   "source": [
    "### Understanding Document structure in langchain"
   ]
  },
  {
   "cell_type": "code",
   "execution_count": 7,
   "id": "5b4329af",
   "metadata": {},
   "outputs": [
    {
     "name": "stdout",
     "output_type": "stream",
     "text": [
      "Document structure\n",
      "content: This is the content of the document.\n",
      "Metadata: {'source': 'examle.txt', 'page_no': 1, 'author': 'Rakesh'}\n"
     ]
    }
   ],
   "source": [
    "## Create a simple langchian document\n",
    "doc=Document(\n",
    "    page_content=\"This is the content of the document.\",\n",
    "    metadata={\n",
    "        \"source\":\"examle.txt\",\n",
    "        \"page_no\":1,\n",
    "        \"author\":\"Rakesh\"\n",
    "    }\n",
    ")\n",
    "\n",
    "print(\"Document structure\")\n",
    "\n",
    "print(f\"content: {doc.page_content}\")\n",
    "print(f\"Metadata: {doc.metadata}\")"
   ]
  },
  {
   "cell_type": "markdown",
   "id": "4abfb682",
   "metadata": {},
   "source": [
    "### Text Loader"
   ]
  },
  {
   "cell_type": "code",
   "execution_count": 8,
   "id": "25533aed",
   "metadata": {},
   "outputs": [],
   "source": [
    "# Create a simple text file\n",
    "import os\n",
    "os.makedirs(\"data/text_files\",exist_ok=True)"
   ]
  },
  {
   "cell_type": "code",
   "execution_count": 10,
   "id": "dc00deb5",
   "metadata": {},
   "outputs": [
    {
     "name": "stdout",
     "output_type": "stream",
     "text": [
      "Text file created \n"
     ]
    }
   ],
   "source": [
    "sample_texts={\n",
    "    \"data/text_files/python_intro.txt\":\"\"\"Python Programming Introduction\n",
    "\n",
    "Python is a high-level, interpreted programming language known for its simplicity and readability.\n",
    "Created by Guido van Rossum and first released in 1991, Python has become one of the most popular\n",
    "programming languages in the world.\n",
    "\n",
    "Key Features:\n",
    "- Easy to learn and use\n",
    "- Extensive standard library\n",
    "- Cross-platform compatibility\n",
    "- Strong community support\n",
    "\n",
    "Python is widely used in web development, data science, artificial intelligence, and automation.\"\"\",\n",
    "    \n",
    "    \"data/text_files/machine_learning.txt\": \"\"\"Machine Learning Basics\n",
    "\n",
    "Machine learning is a subset of artificial intelligence that enables systems to learn and improve\n",
    "from experience without being explicitly programmed. It focuses on developing computer programs\n",
    "that can access data and use it to learn for themselves.\n",
    "\n",
    "Types of Machine Learning:\n",
    "1. Supervised Learning: Learning with labeled data\n",
    "2. Unsupervised Learning: Finding patterns in unlabeled data\n",
    "3. Reinforcement Learning: Learning through rewards and penalties\n",
    "\n",
    "Applications include image recognition, speech processing, and recommendation systems\n",
    "    \n",
    "    \n",
    "    \"\"\"\n",
    "}\n",
    "\n",
    "for filepath,content in sample_texts.items():\n",
    "    with open (filepath,'w',encoding=\"utf-8\") as f:\n",
    "        f.write(content)\n",
    "\n",
    "print(\"Text file created \")"
   ]
  },
  {
   "cell_type": "markdown",
   "id": "6666697e",
   "metadata": {},
   "source": [
    "### Text Loader - Read Single file"
   ]
  },
  {
   "cell_type": "code",
   "execution_count": 13,
   "id": "ac417ebf",
   "metadata": {},
   "outputs": [
    {
     "name": "stdout",
     "output_type": "stream",
     "text": [
      "<class 'list'>\n",
      "Loaded 1 documents\n",
      "content preview: Python Programming Introduction\n",
      "\n",
      "Python is a high-level, interpreted programming language known for \n",
      "Metadata: {'source': 'data/text_files/python_intro.txt'}\n"
     ]
    }
   ],
   "source": [
    "from langchain_community.document_loaders import TextLoader\n",
    "\n",
    "# load the text files\n",
    "loader=TextLoader(\n",
    "    file_path=\"data/text_files/python_intro.txt\",\n",
    "    encoding=\"utf-8\"\n",
    ")\n",
    "\n",
    "doc=loader.load()\n",
    "print(type(doc))\n",
    "\n",
    "print(f\"Loaded {len(doc)} documents\")\n",
    "print(f\"content preview: {doc[0].page_content[:100]}\")\n",
    "print(f\"Metadata: {doc[0].metadata}\")"
   ]
  },
  {
   "cell_type": "markdown",
   "id": "dcce7379",
   "metadata": {},
   "source": [
    "### Load Multiple files from directory"
   ]
  },
  {
   "cell_type": "code",
   "execution_count": 16,
   "id": "695909e9",
   "metadata": {},
   "outputs": [
    {
     "name": "stderr",
     "output_type": "stream",
     "text": [
      "100%|██████████| 2/2 [00:00<00:00, 1148.65it/s]"
     ]
    },
    {
     "name": "stdout",
     "output_type": "stream",
     "text": [
      "Loaded 2 documents\n",
      "\n",
      " document1\n",
      "metadata: {'source': 'data\\\\text_files\\\\machine_learning.txt'}\n",
      "page content: Machine Learning Basics\n",
      "\n",
      "Machine learning is a subset of artificial intelligence that enables system\n",
      "\n",
      " document2\n",
      "metadata: {'source': 'data\\\\text_files\\\\python_intro.txt'}\n",
      "page content: Python Programming Introduction\n",
      "\n",
      "Python is a high-level, interpreted programming language known for \n"
     ]
    },
    {
     "name": "stderr",
     "output_type": "stream",
     "text": [
      "\n"
     ]
    }
   ],
   "source": [
    "from langchain_community.document_loaders import DirectoryLoader\n",
    "loader=DirectoryLoader(\n",
    "    path=\"data/text_files\",\n",
    "    glob=\"**/*.txt\",\n",
    "    loader_cls=TextLoader,\n",
    "    loader_kwargs={\"encoding\":\"utf-8\"},\n",
    "    show_progress=True\n",
    ")\n",
    "\n",
    "documents=loader.load()\n",
    "print(f\"Loaded {len(documents)} documents\")\n",
    "for i,document in enumerate(documents):\n",
    "    print(f\"\\n document{i+1}\")\n",
    "    print(f\"metadata: {document.metadata}\")\n",
    "    print(f\"page content: {document.page_content[:100]}\")"
   ]
  },
  {
   "cell_type": "code",
   "execution_count": null,
   "id": "437deba1",
   "metadata": {},
   "outputs": [],
   "source": []
  }
 ],
 "metadata": {
  "kernelspec": {
   "display_name": "RAGUdemy",
   "language": "python",
   "name": "python3"
  },
  "language_info": {
   "codemirror_mode": {
    "name": "ipython",
    "version": 3
   },
   "file_extension": ".py",
   "mimetype": "text/x-python",
   "name": "python",
   "nbconvert_exporter": "python",
   "pygments_lexer": "ipython3",
   "version": "3.13.5"
  }
 },
 "nbformat": 4,
 "nbformat_minor": 5
}

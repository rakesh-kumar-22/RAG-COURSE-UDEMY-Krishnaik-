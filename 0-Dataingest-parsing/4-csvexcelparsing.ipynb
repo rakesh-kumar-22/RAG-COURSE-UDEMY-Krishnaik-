{
 "cells": [
  {
   "cell_type": "markdown",
   "id": "aef4ee8f",
   "metadata": {},
   "source": [
    "#### CSV and EXCEL Parsing ->STRUCTURED DATA"
   ]
  },
  {
   "cell_type": "code",
   "execution_count": 1,
   "id": "04b70bf5",
   "metadata": {},
   "outputs": [],
   "source": [
    "import pandas as pd\n",
    "import os"
   ]
  },
  {
   "cell_type": "code",
   "execution_count": 2,
   "id": "c5313528",
   "metadata": {},
   "outputs": [],
   "source": [
    "os.makedirs(\"data/structured files\",exist_ok=True)"
   ]
  },
  {
   "cell_type": "code",
   "execution_count": 3,
   "id": "5e9e47ed",
   "metadata": {},
   "outputs": [],
   "source": [
    "# Create sample data\n",
    "data = {\n",
    "    'Product': ['Laptop', 'Mouse', 'Keyboard', 'Monitor', 'Webcam'],\n",
    "    'Category': ['Electronics', 'Accessories', 'Accessories', 'Electronics', 'Electronics'],\n",
    "    'Price': [999.99, 29.99, 79.99, 299.99, 89.99],\n",
    "    'Stock': [50, 200, 150, 75, 100],\n",
    "    'Description': [\n",
    "        'High-performance laptop with 16GB RAM and 512GB SSD',\n",
    "        'Wireless optical mouse with ergonomic design',\n",
    "        'Mechanical keyboard with RGB backlighting',\n",
    "        '27-inch 4K monitor with HDR support',\n",
    "        '1080p webcam with noise cancellation'\n",
    "    ]\n",
    "}\n",
    "\n",
    "# Save as CSV\n",
    "df=pd.DataFrame(data)\n",
    "df.to_csv(\"data/structured files/product.csv\",index=False)"
   ]
  },
  {
   "cell_type": "code",
   "execution_count": 6,
   "id": "8e19d6e8",
   "metadata": {},
   "outputs": [],
   "source": [
    "# Save as Excel with multiple sheets\n",
    "with pd.ExcelWriter('data/structured files/inventory.xlsx') as writer:\n",
    "    df.to_excel(writer, sheet_name='Products', index=False)\n",
    "    \n",
    "    # Add another sheet\n",
    "    summary_data = {\n",
    "        'Category': ['Electronics', 'Accessories'],\n",
    "        'Total_Items': [3, 2],\n",
    "        'Total_Value': [1389.97, 109.98]\n",
    "    }\n",
    "    pd.DataFrame(summary_data).to_excel(writer, sheet_name='Summary', index=False)"
   ]
  },
  {
   "cell_type": "markdown",
   "id": "555a6c59",
   "metadata": {},
   "source": [
    "## CSV Processing"
   ]
  },
  {
   "cell_type": "code",
   "execution_count": 7,
   "id": "fe08aaae",
   "metadata": {},
   "outputs": [],
   "source": [
    "from langchain.document_loaders import CSVLoader\n",
    "from langchain_community.document_loaders import UnstructuredCSVLoader"
   ]
  },
  {
   "cell_type": "code",
   "execution_count": 9,
   "id": "c0797700",
   "metadata": {},
   "outputs": [
    {
     "name": "stdout",
     "output_type": "stream",
     "text": [
      "Created 5 documents\n",
      "\n",
      "\n",
      "\n",
      "[Document(metadata={'source': 'data/structured files/product.csv', 'row': 0}, page_content='Product: Laptop\\nCategory: Electronics\\nPrice: 999.99\\nStock: 50\\nDescription: High-performance laptop with 16GB RAM and 512GB SSD'), Document(metadata={'source': 'data/structured files/product.csv', 'row': 1}, page_content='Product: Mouse\\nCategory: Accessories\\nPrice: 29.99\\nStock: 200\\nDescription: Wireless optical mouse with ergonomic design'), Document(metadata={'source': 'data/structured files/product.csv', 'row': 2}, page_content='Product: Keyboard\\nCategory: Accessories\\nPrice: 79.99\\nStock: 150\\nDescription: Mechanical keyboard with RGB backlighting'), Document(metadata={'source': 'data/structured files/product.csv', 'row': 3}, page_content='Product: Monitor\\nCategory: Electronics\\nPrice: 299.99\\nStock: 75\\nDescription: 27-inch 4K monitor with HDR support'), Document(metadata={'source': 'data/structured files/product.csv', 'row': 4}, page_content='Product: Webcam\\nCategory: Electronics\\nPrice: 89.99\\nStock: 100\\nDescription: 1080p webcam with noise cancellation')]\n",
      "\n",
      "\n",
      "\n",
      "First docs content Product: Laptop\n",
      "Category: Electronics\n",
      "Price: 999.99\n",
      "Stock: 50\n",
      "Description: High-performance laptop with 16GB RAM and 512GB SSD\n",
      "FFirst document metadaata: {'source': 'data/structured files/product.csv', 'row': 0}\n"
     ]
    }
   ],
   "source": [
    "# Method 1:CSVLoader where each row will become a document object\n",
    "loader=CSVLoader(\n",
    "    file_path=\"data/structured files/product.csv\",\n",
    "    encoding=\"utf-8\",\n",
    "    csv_args={\n",
    "        \"delimiter\":\",\",\n",
    "        \"quotechar\":'\"'\n",
    "    }\n",
    ")\n",
    "\n",
    "docs=loader.load()\n",
    "print(f\"Created {len(docs)} documents\")\n",
    "print(\"\\n\\n\")\n",
    "print(docs)\n",
    "print(\"\\n\\n\")\n",
    "print(f\"First docs content {docs[0].page_content}\")\n",
    "print(f\"FFirst document metadaata: {docs[0].metadata}\")"
   ]
  },
  {
   "cell_type": "markdown",
   "id": "2a9445e8",
   "metadata": {},
   "source": [
    "### Custom CSV processing"
   ]
  },
  {
   "cell_type": "code",
   "execution_count": 13,
   "id": "1edfb7b9",
   "metadata": {},
   "outputs": [
    {
     "name": "stdout",
     "output_type": "stream",
     "text": [
      "\n",
      " Custom CSV Processing \n",
      "\n"
     ]
    }
   ],
   "source": [
    "from typing import List\n",
    "from langchain_core.documents import Document\n",
    "\n",
    "# Method 1: Custom CSV processing\n",
    "print(\"\\n Custom CSV Processing \\n\")\n",
    "def custom_csv_processing(filepath: str)->List[Document]:\n",
    "    \"Customized CSV Procesing\"\n",
    "    df=pd.read_csv(filepath)\n",
    "    documents=[]\n",
    "    # Structure 1:One document per row with structured content\n",
    "    for idx,row in df.iterrows():\n",
    "        # Create structure content\n",
    "        content=f\"\"\"\"Product information:\n",
    "        Name: {row['Product']}\n",
    "        category: {row['Category']}\n",
    "        price: ${row['Price']}\n",
    "        stock: {row['Stock']}\n",
    "        description: {row['Description']}\n",
    "        \"\"\"\n",
    "\n",
    "        # Create document with rich metadata\n",
    "        doc=Document(\n",
    "            page_content=content,\n",
    "            metadata={\n",
    "                \"source\":filepath,\n",
    "                \"row indx\":idx,\n",
    "                \"category\":row['Category'],\n",
    "                \"price\": row['Price'],\n",
    "                \"data_type\": \"product_info\"\n",
    "            }\n",
    "        )\n",
    "\n",
    "        documents.append(doc)\n",
    "    return documents"
   ]
  },
  {
   "cell_type": "code",
   "execution_count": 14,
   "id": "90b5ee1d",
   "metadata": {},
   "outputs": [
    {
     "data": {
      "text/plain": [
       "[Document(metadata={'source': 'data/structured files/product.csv', 'row indx': 0, 'category': 'Electronics', 'price': 999.99, 'data_type': 'product_info'}, page_content='\"Product information:\\n        Name: Laptop\\n        category: Electronics\\n        price: $999.99\\n        stock: 50\\n        description: High-performance laptop with 16GB RAM and 512GB SSD\\n        '),\n",
       " Document(metadata={'source': 'data/structured files/product.csv', 'row indx': 1, 'category': 'Accessories', 'price': 29.99, 'data_type': 'product_info'}, page_content='\"Product information:\\n        Name: Mouse\\n        category: Accessories\\n        price: $29.99\\n        stock: 200\\n        description: Wireless optical mouse with ergonomic design\\n        '),\n",
       " Document(metadata={'source': 'data/structured files/product.csv', 'row indx': 2, 'category': 'Accessories', 'price': 79.99, 'data_type': 'product_info'}, page_content='\"Product information:\\n        Name: Keyboard\\n        category: Accessories\\n        price: $79.99\\n        stock: 150\\n        description: Mechanical keyboard with RGB backlighting\\n        '),\n",
       " Document(metadata={'source': 'data/structured files/product.csv', 'row indx': 3, 'category': 'Electronics', 'price': 299.99, 'data_type': 'product_info'}, page_content='\"Product information:\\n        Name: Monitor\\n        category: Electronics\\n        price: $299.99\\n        stock: 75\\n        description: 27-inch 4K monitor with HDR support\\n        '),\n",
       " Document(metadata={'source': 'data/structured files/product.csv', 'row indx': 4, 'category': 'Electronics', 'price': 89.99, 'data_type': 'product_info'}, page_content='\"Product information:\\n        Name: Webcam\\n        category: Electronics\\n        price: $89.99\\n        stock: 100\\n        description: 1080p webcam with noise cancellation\\n        ')]"
      ]
     },
     "execution_count": 14,
     "metadata": {},
     "output_type": "execute_result"
    }
   ],
   "source": [
    "custom_csv_processing(\"data/structured files/product.csv\")"
   ]
  },
  {
   "cell_type": "markdown",
   "id": "33785d65",
   "metadata": {},
   "source": [
    "## Excel File Processing"
   ]
  },
  {
   "cell_type": "code",
   "execution_count": 19,
   "id": "63a4b91c",
   "metadata": {},
   "outputs": [
    {
     "name": "stdout",
     "output_type": "stream",
     "text": [
      "Created 2 documents\n",
      "[Document(metadata={'source': 'data\\\\structured files\\\\inventory.xlsx', 'file_directory': 'data\\\\structured files', 'filename': 'inventory.xlsx', 'last_modified': '2025-10-22T14:01:39', 'page_name': 'Products', 'page_number': 1, 'text_as_html': '<table><tr><td>Product</td><td>Category</td><td>Price</td><td>Stock</td><td>Description</td></tr><tr><td>Laptop</td><td>Electronics</td><td>999.99</td><td>50</td><td>High-performance laptop with 16GB RAM and 512GB SSD</td></tr><tr><td>Mouse</td><td>Accessories</td><td>29.99</td><td>200</td><td>Wireless optical mouse with ergonomic design</td></tr><tr><td>Keyboard</td><td>Accessories</td><td>79.99</td><td>150</td><td>Mechanical keyboard with RGB backlighting</td></tr><tr><td>Monitor</td><td>Electronics</td><td>299.99</td><td>75</td><td>27-inch 4K monitor with HDR support</td></tr><tr><td>Webcam</td><td>Electronics</td><td>89.99</td><td>100</td><td>1080p webcam with noise cancellation</td></tr></table>', 'languages': ['eng'], 'filetype': 'application/vnd.openxmlformats-officedocument.spreadsheetml.sheet', 'category': 'Table', 'element_id': '6c3514d8bca67e1cbfa020192b595264'}, page_content='Product Category Price Stock Description Laptop Electronics 999.99 50 High-performance laptop with 16GB RAM and 512GB SSD Mouse Accessories 29.99 200 Wireless optical mouse with ergonomic design Keyboard Accessories 79.99 150 Mechanical keyboard with RGB backlighting Monitor Electronics 299.99 75 27-inch 4K monitor with HDR support Webcam Electronics 89.99 100 1080p webcam with noise cancellation'), Document(metadata={'source': 'data\\\\structured files\\\\inventory.xlsx', 'file_directory': 'data\\\\structured files', 'filename': 'inventory.xlsx', 'last_modified': '2025-10-22T14:01:39', 'page_name': 'Summary', 'page_number': 2, 'text_as_html': '<table><tr><td>Category</td><td>Total_Items</td><td>Total_Value</td></tr><tr><td>Electronics</td><td>3</td><td>1389.97</td></tr><tr><td>Accessories</td><td>2</td><td>109.98</td></tr></table>', 'languages': ['eng'], 'filetype': 'application/vnd.openxmlformats-officedocument.spreadsheetml.sheet', 'category': 'Table', 'element_id': 'dcf57c06f0490353601c69aaefb62f83'}, page_content='Category Total_Items Total_Value Electronics 3 1389.97 Accessories 2 109.98')]\n"
     ]
    }
   ],
   "source": [
    "from langchain_community.document_loaders import UnstructuredExcelLoader\n",
    "excel_loader=UnstructuredExcelLoader(\n",
    "    r\"data\\structured files\\inventory.xlsx\",\n",
    "    mode='elements'\n",
    ")\n",
    "\n",
    "docs=excel_loader.load()\n",
    "print(f\"Created {len(docs)} documents\")\n",
    "print(docs)"
   ]
  },
  {
   "cell_type": "code",
   "execution_count": null,
   "id": "0fd39727",
   "metadata": {},
   "outputs": [],
   "source": []
  }
 ],
 "metadata": {
  "kernelspec": {
   "display_name": "RAGUdemy",
   "language": "python",
   "name": "python3"
  },
  "language_info": {
   "codemirror_mode": {
    "name": "ipython",
    "version": 3
   },
   "file_extension": ".py",
   "mimetype": "text/x-python",
   "name": "python",
   "nbconvert_exporter": "python",
   "pygments_lexer": "ipython3",
   "version": "3.13.5"
  }
 },
 "nbformat": 4,
 "nbformat_minor": 5
}
